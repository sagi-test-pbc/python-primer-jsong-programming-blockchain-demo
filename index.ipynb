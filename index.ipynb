{
 "cells": [
  {
   "cell_type": "markdown",
   "metadata": {},
   "source": [
    "# This is a Jupyter Notebook\n",
    "You can write Python code and it will execute. You can write the typical 'hello world' program like this:\n",
    "\n",
    "```python\n",
    "print('hello world')\n",
    "```\n",
    "\n",
    "You can execute by pressing shift-enter. Try it! You can also click the Run button in the toolbar."
   ]
  },
  {
   "cell_type": "code",
   "execution_count": 1,
   "metadata": {},
   "outputs": [
    {
     "name": "stdout",
     "output_type": "stream",
     "text": [
      "hello world\n"
     ]
    }
   ],
   "source": [
    "print('hello world')"
   ]
  },
  {
   "cell_type": "markdown",
   "metadata": {},
   "source": [
    "### You can do a lot more than just print \"hello world\"\n",
    "\n",
    "This is a fully functioning Python3 interpreter so you can write functions and objects like in the next box.\n",
    "\n",
    "Try printing the 21st Fibonacci number below instead of the 11th. You can add caching if you want to practice coding in Python."
   ]
  },
  {
   "cell_type": "code",
   "execution_count": 2,
   "metadata": {},
   "outputs": [
    {
     "name": "stdout",
     "output_type": "stream",
     "text": [
      "10946\n"
     ]
    }
   ],
   "source": [
    "def fib(n):\n",
    "    if n in (0,1):\n",
    "        return 1\n",
    "    else:\n",
    "        return fib(n-1) + fib(n-2)\n",
    "\n",
    "print(fib(20))"
   ]
  },
  {
   "cell_type": "markdown",
   "metadata": {},
   "source": [
    "### A few things you should remember in Python3\n",
    "\n",
    "Strings and bytes are now different\n",
    "\n",
    "```python\n",
    "s = 'hello world'\n",
    "b = b'hello world'\n",
    "```\n",
    "\n",
    "These may look the same but the 'b' prefix means that one is bytes. Basically, the on-disk characters on the system are bytes and the actual symbols in unicode are strings. A good explanation of the difference is [here](http://www.diveintopython3.net/strings.html)."
   ]
  },
  {
   "cell_type": "code",
   "execution_count": 3,
   "metadata": {},
   "outputs": [
    {
     "name": "stdout",
     "output_type": "stream",
     "text": [
      "False\n",
      "True\n",
      "True\n"
     ]
    }
   ],
   "source": [
    "s = 'hello world'\n",
    "b = b'hello world'\n",
    "\n",
    "print(s==b) # False\n",
    "\n",
    "# You convert from string to bytes this way:\n",
    "\n",
    "hello_world_bytes = s.encode('ascii')\n",
    "print(hello_world_bytes == b) # True\n",
    "\n",
    "# You convert from bytes to string this way:\n",
    "\n",
    "hello_world_string = b.decode('ascii')\n",
    "print(hello_world_string == s) # True"
   ]
  },
  {
   "cell_type": "markdown",
   "metadata": {},
   "source": [
    "### Imports\n",
    "\n",
    "You already have unit tests that are written for you.\n",
    "Your task is to make them pass.\n",
    "We can import various modules to make our experience using Jupyter more pleasant.\n",
    "This way, making everything work will be a lot easier."
   ]
  },
  {
   "cell_type": "markdown",
   "metadata": {},
   "source": [
    "```python\n",
    "# import everything and define a test runner function\n",
    "from importlib import reload\n",
    "from helper import run_test\n",
    "\n",
    "import helper\n",
    "```"
   ]
  },
  {
   "cell_type": "markdown",
   "metadata": {},
   "source": [
    "### Test Driven Exercise\n",
    "\n",
    "There is a test driven exercise (and there is another at the end of the notebook). The tests being run are in the `test/index_test.py` file. Again, if you want to see the code you can click on the Octocat icon on the tool bar. Your job on these Test Driven Exercisess is to get the tests to pass.\n",
    "\n",
    "In order to do this, you'll have to write the methods below. So go ahead and implement the `bytes_to_str` and `str_to_bytes functions`. Once you're done run the Run Test button. Try it now!"
   ]
  },
  {
   "cell_type": "code",
   "execution_count": 4,
   "metadata": {},
   "outputs": [],
   "source": [
    "def bytes_to_str(b, encoding='ascii'):\n",
    "    '''Returns a string version of the bytes'''\n",
    "    return b.decode(encoding)\n",
    "\n",
    "\n",
    "def str_to_bytes(s, encoding='ascii'):\n",
    "    '''Returns a bytes version of the string'''\n",
    "    return s.encode(encoding)\n"
   ]
  },
  {
   "cell_type": "markdown",
   "metadata": {},
   "source": [
    "### Getting Help\n",
    "\n",
    "If you can't get this, there is a `solution.ipynb` notebook on GitHub with complete answers."
   ]
  },
  {
   "cell_type": "markdown",
   "metadata": {},
   "source": [
    "### Useful Python 3 Idioms\n",
    "\n",
    "You can reverse a list by using `[::-1]`:\n",
    "\n",
    "```python\n",
    "a = [1, 2, 3, 4, 5]\n",
    "print(a[::-1]) # [5, 4, 3, 2, 1]\n",
    "```\n",
    "\n",
    "Also works on both strings and bytes:\n",
    "\n",
    "```python\n",
    "s = 'hello world'\n",
    "print(s[::-1]) # 'dlrow olleh'\n",
    "b = b'hello world'\n",
    "print(b[::-1]) # b'dlrow olleh'\n",
    "```\n",
    "\n",
    "Indexing bytes will get you the numerical value:\n",
    "\n",
    "```python\n",
    "print(b'&'[0]) # 38 since & charcter #38\n",
    "```\n",
    "\n",
    "You can do the reverse by using bytes:\n",
    "\n",
    "```python\n",
    "print(bytes([38])) # b'&'\n",
    "```"
   ]
  },
  {
   "cell_type": "code",
   "execution_count": 5,
   "metadata": {},
   "outputs": [
    {
     "name": "stdout",
     "output_type": "stream",
     "text": [
      "[5, 4, 3, 2, 1]\n",
      "dlrow olleh\n",
      "b'dlrow olleh'\n",
      "38\n",
      "b'&'\n"
     ]
    }
   ],
   "source": [
    "a = [1, 2, 3, 4, 5]\n",
    "print(a[::-1]) # [5, 4, 3, 2, 1]\n",
    "\n",
    "s = 'hello world'\n",
    "print(s[::-1]) # 'dlrow olleh'\n",
    "b = b'hello world'\n",
    "print(b[::-1]) # b'dlrow olleh'\n",
    "\n",
    "print(b'&'[0]) # 38 since & charcter #38\n",
    "\n",
    "print(bytes([38])) # b'&'"
   ]
  },
  {
   "cell_type": "markdown",
   "metadata": {},
   "source": [
    "### Python Tricks\n",
    "\n",
    "Here is how we convert binary to/from hex:"
   ]
  },
  {
   "cell_type": "code",
   "execution_count": 6,
   "metadata": {},
   "outputs": [
    {
     "name": "stdout",
     "output_type": "stream",
     "text": [
      "68656c6c6f20776f726c64\n",
      "b'hello world'\n"
     ]
    }
   ],
   "source": [
    "print(b'hello world'.hex())\n",
    "print(bytes.fromhex('68656c6c6f20776f726c64'))"
   ]
  },
  {
   "cell_type": "markdown",
   "metadata": {},
   "source": [
    "### Exercise\n",
    "\n",
    "Reverse this hex dump: `b010a49c82b4bc84cc1dfd6e09b2b8114d016041efaf591eca88959e327dd29a`\n",
    "\n",
    "Hint: you'll want to turn this into binary data, reverse and turn it into hex again"
   ]
  },
  {
   "cell_type": "code",
   "execution_count": null,
   "metadata": {},
   "outputs": [],
   "source": [
    "# Exercise 2\n",
    "\n",
    "h = 'b010a49c82b4bc84cc1dfd6e09b2b8114d016041efaf591eca88959e327dd29a'\n",
    "\n",
    "# convert to binary (bytes.fromhex)\n",
    "print(h[::-1])\n",
    "# reverse ([::-1])\n",
    "# convert to hex()"
   ]
  },
  {
   "cell_type": "markdown",
   "metadata": {},
   "source": [
    "### Modular Arithmetic\n",
    "\n",
    "If you don't remember Modular Arithmetic, it's this function on python\n",
    "\n",
    "```python\n",
    "39 % 12\n",
    "```\n",
    "\n",
    "The result is 3 because that is the remainder after division (39 / 12 == 3 + 3/12).\n",
    "\n",
    "Some people like to call it \"wrap-around\" math. If it helps, think of modular arithmetic like a clock:\n",
    "\n",
    "![clock](http://latex.artofproblemsolving.com/f/4/d/f4daa2601de14fddf3d8441e16cc322a25e85354.png)\n",
    "\n",
    "Think of taking the modulo as asking the question \"what hour will it be 39 hours from now?\"\n",
    "\n",
    "If you're still confused, please take a look at [this](https://www.khanacademy.org/computing/computer-science/cryptography/modarithmetic/a/what-is-modular-arithmetic) article."
   ]
  },
  {
   "cell_type": "code",
   "execution_count": null,
   "metadata": {},
   "outputs": [],
   "source": [
    "print(39 % 12)"
   ]
  },
  {
   "cell_type": "markdown",
   "metadata": {},
   "source": [
    "### Exercise\n",
    "\n",
    "Find the modulo 19 of these numbers:\n",
    "\n",
    "* 99\n",
    "* \\\\(456 \\cdot 444\\\\)\n",
    "* \\\\(9^{77}\\\\)\n",
    "\n",
    "(note python uses ** to do exponentiation)"
   ]
  },
  {
   "cell_type": "code",
   "execution_count": null,
   "metadata": {},
   "outputs": [],
   "source": [
    "# Exercise 3\n",
    "\n",
    "prime = 19\n",
    "# 99\n",
    "# 456*444\n",
    "# 9**77"
   ]
  },
  {
   "cell_type": "markdown",
   "metadata": {},
   "source": [
    "### Converting from bytes to int and back\n",
    "\n",
    "Converting from bytes to integer requires learning about Big and Little Endian encoding. Essentially any number greater than 255 can be encoded in two ways, with the \"Big End\" going first or the \"Little End\" going first.\n",
    "\n",
    "Normal human reading is from the \"Big End\". For example 123 is read as 100 + 20 + 3. Some computer systems encode integers with the \"Little End\" first.\n",
    "\n",
    "A number like 500 is encoded this way in Big Endian:\n",
    "\n",
    "0x01f4 (256 + 244)\n",
    "\n",
    "But this way in Little Endian:\n",
    "\n",
    "0xf401 (244 + 256)\n",
    "\n",
    "In Python we can convert an integer to big or little endian using a built-in method:\n",
    "\n",
    "```python\n",
    "n = 1234567890\n",
    "big_endian = n.to_bytes(4, 'big')  # b'\\x49\\x96\\x02\\xd2'\n",
    "little_endian = n.to_bytes(4, 'little')  # b'\\xd2\\x02\\x96\\x49'\n",
    "```\n",
    "\n",
    "We can also convert from bytes to an integer this way:\n",
    "\n",
    "```python\n",
    "big_endian = b'\\x49\\x96\\x02\\xd2'\n",
    "n = int.from_bytes(big_endian, 'big')  # 1234567890\n",
    "little_endian = b'\\xd2\\x02\\x96\\x49'\n",
    "n = int.from_bytes(little_endian, 'little')  # 1234567890\n",
    "```"
   ]
  },
  {
   "cell_type": "code",
   "execution_count": null,
   "metadata": {},
   "outputs": [],
   "source": [
    "n = 1234567890\n",
    "big_endian = n.to_bytes(4, 'big')\n",
    "little_endian = n.to_bytes(4, 'little')\n",
    "\n",
    "print(big_endian.hex())\n",
    "print(little_endian.hex())\n",
    "\n",
    "print(int.from_bytes(big_endian, 'big'))\n",
    "print(int.from_bytes(little_endian, 'little'))"
   ]
  },
  {
   "cell_type": "markdown",
   "metadata": {},
   "source": [
    "### Test Driven Exercise\n",
    "\n",
    "Convert the following:\n",
    "\n",
    " * 8675309 to 8 bytes in big endian\n",
    " * interpret ```b'\\x11\\x22\\x33\\x44\\x55'``` as a little endian integer"
   ]
  },
  {
   "cell_type": "code",
   "execution_count": 11,
   "metadata": {},
   "outputs": [],
   "source": [
    "n = 8675309\n",
    "# print n in 8 big endian bytes\n",
    "\n",
    "little_endian = b'\\x11\\x22\\x33\\x44\\x55'\n",
    "# print little endian in decimal\n",
    "\n",
    "def little_endian_to_int(bytes):\n",
    "    '''little_endian_to_int takes byte sequence as a little-endian number.\n",
    "    Returns an integer'''\n",
    "    # use the from_bytes method of int\n",
    "    pass\n",
    "\n",
    "def int_to_little_endian(n, length):\n",
    "    '''endian_to_little_endian takes an integer and returns the little-endian\n",
    "    byte sequence of length'''\n",
    "    # use the to_bytes method of n\n",
    "    pass"
   ]
  }
 ],
 "metadata": {
  "kernelspec": {
   "display_name": "Python 3",
   "language": "python",
   "name": "python3"
  },
  "language_info": {
   "codemirror_mode": {
    "name": "ipython",
    "version": 3
   },
   "file_extension": ".py",
   "mimetype": "text/x-python",
   "name": "python",
   "nbconvert_exporter": "python",
   "pygments_lexer": "ipython3",
   "version": "3.6.4"
  }
 },
 "nbformat": 4,
 "nbformat_minor": 2
}
